{
 "cells": [
  {
   "cell_type": "code",
   "execution_count": 1,
   "id": "b5a445a4",
   "metadata": {},
   "outputs": [],
   "source": [
    "import numpy as np\n",
    "import pandas as pd\n",
    "import re\n",
    "from convokit import Corpus, download\n",
    "from sklearn.feature_extraction.text import CountVectorizer\n",
    "from sklearn.model_selection import train_test_split, GridSearchCV\n",
    "from sklearn.naive_bayes import GaussianNB\n",
    "from sklearn.metrics import accuracy_score, precision_score, f1_score\n",
    "from sklearn.feature_extraction.text import TfidfTransformer\n",
    "from sklearn.linear_model import LogisticRegression\n",
    "from sklearn.neural_network import MLPClassifier\n",
    "from sklearn.metrics import classification_report,confusion_matrix\n",
    "import gender_guesser.detector as gender\n",
    "import matplotlib.pylab as plt\n",
    "%matplotlib inline"
   ]
  },
  {
   "cell_type": "code",
   "execution_count": 2,
   "id": "e00428bf",
   "metadata": {},
   "outputs": [],
   "source": [
    "X_train_all = pd.read_csv('data/X_train_all.csv', index_col = 'id')\n",
    "X_val_all = pd.read_csv('data/X_val_all.csv', index_col = 'id')\n",
    "X_test_all = pd.read_csv('data/X_test_all.csv', index_col = 'id')\n",
    "\n",
    "y_train = pd.read_csv('data/y_train.csv')\n",
    "y_val = pd.read_csv('data/y_val.csv')\n",
    "y_test = pd.read_csv('data/y_test.csv')"
   ]
  },
  {
   "cell_type": "code",
   "execution_count": 5,
   "id": "c5d5c00f",
   "metadata": {},
   "outputs": [],
   "source": [
    "mlp = MLPClassifier(random_state = 0)\n",
    "param_space = {'activation' : ['tanh', 'relu'],\n",
    "              'solver': ['sgd', 'adam']}"
   ]
  },
  {
   "cell_type": "code",
   "execution_count": 6,
   "id": "01048a64",
   "metadata": {},
   "outputs": [
    {
     "data": {
      "text/plain": [
       "GridSearchCV(cv=3, estimator=MLPClassifier(random_state=0), n_jobs=-1,\n",
       "             param_grid={'activation': ['tanh', 'relu'],\n",
       "                         'solver': ['sgd', 'adam']})"
      ]
     },
     "execution_count": 6,
     "metadata": {},
     "output_type": "execute_result"
    }
   ],
   "source": [
    "search = GridSearchCV(mlp, param_space, n_jobs=-1, cv=3)\n",
    "search.fit(X_train_all, y_train.loc[:,'win_side'])"
   ]
  },
  {
   "cell_type": "code",
   "execution_count": 7,
   "id": "b6d90241",
   "metadata": {},
   "outputs": [
    {
     "data": {
      "text/html": [
       "<div>\n",
       "<style scoped>\n",
       "    .dataframe tbody tr th:only-of-type {\n",
       "        vertical-align: middle;\n",
       "    }\n",
       "\n",
       "    .dataframe tbody tr th {\n",
       "        vertical-align: top;\n",
       "    }\n",
       "\n",
       "    .dataframe thead th {\n",
       "        text-align: right;\n",
       "    }\n",
       "</style>\n",
       "<table border=\"1\" class=\"dataframe\">\n",
       "  <thead>\n",
       "    <tr style=\"text-align: right;\">\n",
       "      <th></th>\n",
       "      <th>mean_fit_time</th>\n",
       "      <th>std_fit_time</th>\n",
       "      <th>mean_score_time</th>\n",
       "      <th>std_score_time</th>\n",
       "      <th>param_activation</th>\n",
       "      <th>param_solver</th>\n",
       "      <th>params</th>\n",
       "      <th>split0_test_score</th>\n",
       "      <th>split1_test_score</th>\n",
       "      <th>split2_test_score</th>\n",
       "      <th>mean_test_score</th>\n",
       "      <th>std_test_score</th>\n",
       "      <th>rank_test_score</th>\n",
       "    </tr>\n",
       "  </thead>\n",
       "  <tbody>\n",
       "    <tr>\n",
       "      <th>0</th>\n",
       "      <td>52.819163</td>\n",
       "      <td>2.547150</td>\n",
       "      <td>0.827667</td>\n",
       "      <td>0.068522</td>\n",
       "      <td>tanh</td>\n",
       "      <td>sgd</td>\n",
       "      <td>{'activation': 'tanh', 'solver': 'sgd'}</td>\n",
       "      <td>0.652720</td>\n",
       "      <td>0.652720</td>\n",
       "      <td>0.655462</td>\n",
       "      <td>0.653634</td>\n",
       "      <td>0.001293</td>\n",
       "      <td>1</td>\n",
       "    </tr>\n",
       "    <tr>\n",
       "      <th>1</th>\n",
       "      <td>138.998960</td>\n",
       "      <td>0.994320</td>\n",
       "      <td>0.676020</td>\n",
       "      <td>0.069679</td>\n",
       "      <td>tanh</td>\n",
       "      <td>adam</td>\n",
       "      <td>{'activation': 'tanh', 'solver': 'adam'}</td>\n",
       "      <td>0.627615</td>\n",
       "      <td>0.560669</td>\n",
       "      <td>0.634454</td>\n",
       "      <td>0.607579</td>\n",
       "      <td>0.033288</td>\n",
       "      <td>3</td>\n",
       "    </tr>\n",
       "    <tr>\n",
       "      <th>2</th>\n",
       "      <td>91.678719</td>\n",
       "      <td>1.367262</td>\n",
       "      <td>0.658557</td>\n",
       "      <td>0.195682</td>\n",
       "      <td>relu</td>\n",
       "      <td>sgd</td>\n",
       "      <td>{'activation': 'relu', 'solver': 'sgd'}</td>\n",
       "      <td>0.652720</td>\n",
       "      <td>0.652720</td>\n",
       "      <td>0.655462</td>\n",
       "      <td>0.653634</td>\n",
       "      <td>0.001293</td>\n",
       "      <td>1</td>\n",
       "    </tr>\n",
       "    <tr>\n",
       "      <th>3</th>\n",
       "      <td>107.206666</td>\n",
       "      <td>13.105403</td>\n",
       "      <td>0.206588</td>\n",
       "      <td>0.031770</td>\n",
       "      <td>relu</td>\n",
       "      <td>adam</td>\n",
       "      <td>{'activation': 'relu', 'solver': 'adam'}</td>\n",
       "      <td>0.631799</td>\n",
       "      <td>0.552301</td>\n",
       "      <td>0.634454</td>\n",
       "      <td>0.606185</td>\n",
       "      <td>0.038117</td>\n",
       "      <td>4</td>\n",
       "    </tr>\n",
       "  </tbody>\n",
       "</table>\n",
       "</div>"
      ],
      "text/plain": [
       "   mean_fit_time  std_fit_time  mean_score_time  std_score_time  \\\n",
       "0      52.819163      2.547150         0.827667        0.068522   \n",
       "1     138.998960      0.994320         0.676020        0.069679   \n",
       "2      91.678719      1.367262         0.658557        0.195682   \n",
       "3     107.206666     13.105403         0.206588        0.031770   \n",
       "\n",
       "  param_activation param_solver                                    params  \\\n",
       "0             tanh          sgd   {'activation': 'tanh', 'solver': 'sgd'}   \n",
       "1             tanh         adam  {'activation': 'tanh', 'solver': 'adam'}   \n",
       "2             relu          sgd   {'activation': 'relu', 'solver': 'sgd'}   \n",
       "3             relu         adam  {'activation': 'relu', 'solver': 'adam'}   \n",
       "\n",
       "   split0_test_score  split1_test_score  split2_test_score  mean_test_score  \\\n",
       "0           0.652720           0.652720           0.655462         0.653634   \n",
       "1           0.627615           0.560669           0.634454         0.607579   \n",
       "2           0.652720           0.652720           0.655462         0.653634   \n",
       "3           0.631799           0.552301           0.634454         0.606185   \n",
       "\n",
       "   std_test_score  rank_test_score  \n",
       "0        0.001293                1  \n",
       "1        0.033288                3  \n",
       "2        0.001293                1  \n",
       "3        0.038117                4  "
      ]
     },
     "execution_count": 7,
     "metadata": {},
     "output_type": "execute_result"
    }
   ],
   "source": [
    "results = pd.DataFrame(search.cv_results_)\n",
    "results"
   ]
  },
  {
   "cell_type": "code",
   "execution_count": 45,
   "id": "02e53ba4",
   "metadata": {},
   "outputs": [
    {
     "name": "stdout",
     "output_type": "stream",
     "text": [
      "Best parameters found:\n",
      " {'activation': 'relu', 'alpha': 0.05, 'hidden_layer_sizes': (100, 50, 25), 'learning_rate': 'constant', 'max_iter': 500, 'solver': 'adam'}\n"
     ]
    },
    {
     "data": {
      "text/plain": [
       "array([0.65892318, 0.65401673, 0.65892318, 0.65401673, 0.65892318,\n",
       "       0.65401673, 0.65892318, 0.65401673, 0.65892318, 0.65401673,\n",
       "       0.65892318, 0.65401673, 0.65892318, 0.65401673, 0.65892318,\n",
       "       0.65401673, 0.65892318, 0.65892318, 0.65892318, 0.65892318,\n",
       "       0.65892318, 0.65892318, 0.65892318, 0.65892318, 0.65892318,\n",
       "       0.65892318, 0.65892318, 0.65892318, 0.65892318, 0.65892318,\n",
       "       0.65892318, 0.65892318, 0.65892318, 0.65768872, 0.65892318,\n",
       "       0.65768872, 0.65892318, 0.65768872, 0.65892318, 0.65768872,\n",
       "       0.65892318, 0.65768872, 0.65892318, 0.65768872, 0.65892318,\n",
       "       0.65768872, 0.65892318, 0.65768872, 0.65892318, 0.65401673,\n",
       "       0.65892318, 0.65401673, 0.65892318, 0.65401673, 0.65892318,\n",
       "       0.65401673, 0.65892318, 0.65401673, 0.65892318, 0.65401673,\n",
       "       0.65892318, 0.65401673, 0.65892318, 0.65401673, 0.65892318,\n",
       "       0.65892318, 0.65892318, 0.65892318, 0.65892318, 0.65892318,\n",
       "       0.65892318, 0.65892318, 0.65892318, 0.65892318, 0.65892318,\n",
       "       0.65892318, 0.65892318, 0.65892318, 0.65892318, 0.65892318,\n",
       "       0.65892318, 0.65891421, 0.65892318, 0.65891421, 0.65892318,\n",
       "       0.65891421, 0.65892318, 0.65891421, 0.65892318, 0.65891421,\n",
       "       0.65892318, 0.65891421, 0.65892318, 0.65891421, 0.65892318,\n",
       "       0.65891421, 0.65892318, 0.65890523, 0.65892318, 0.65890523,\n",
       "       0.65892318, 0.65890523, 0.65892318, 0.65890523, 0.65892318,\n",
       "       0.65890523, 0.65892318, 0.65890523, 0.65892318, 0.65890523,\n",
       "       0.65892318, 0.65890523, 0.65892318, 0.65892318, 0.65892318,\n",
       "       0.65892318, 0.65892318, 0.65892318, 0.65892318, 0.65892318,\n",
       "       0.65892318, 0.65892318, 0.65892318, 0.65892318, 0.65892318,\n",
       "       0.65892318, 0.65892318, 0.65892318, 0.65892318, 0.6601397 ,\n",
       "       0.65892318, 0.6601397 , 0.65892318, 0.6601397 , 0.65892318,\n",
       "       0.6601397 , 0.65892318, 0.6601397 , 0.65892318, 0.6601397 ,\n",
       "       0.65892318, 0.6601397 , 0.65892318, 0.6601397 , 0.65892318,\n",
       "       0.64915069, 0.65892318, 0.64915069, 0.65892318, 0.64915069,\n",
       "       0.65892318, 0.64915069, 0.65892318, 0.64915069, 0.65892318,\n",
       "       0.64915069, 0.65892318, 0.64915069, 0.65892318, 0.64915069,\n",
       "       0.65892318, 0.65892318, 0.65892318, 0.65892318, 0.65892318,\n",
       "       0.65892318, 0.65892318, 0.65892318, 0.65892318, 0.65892318,\n",
       "       0.65892318, 0.65892318, 0.65892318, 0.65892318, 0.65892318,\n",
       "       0.65892318, 0.65892318, 0.66013072, 0.65892318, 0.66013072,\n",
       "       0.65892318, 0.66013072, 0.65892318, 0.66013072, 0.65892318,\n",
       "       0.66013072, 0.65892318, 0.66013072, 0.65892318, 0.66013072,\n",
       "       0.65892318, 0.66013072, 0.65892318, 0.6625817 , 0.65892318,\n",
       "       0.6625817 , 0.65892318, 0.6625817 , 0.65892318, 0.6625817 ,\n",
       "       0.65892318, 0.6625817 , 0.65892318, 0.6625817 , 0.65892318,\n",
       "       0.6625817 , 0.65892318, 0.6625817 , 0.65892318, 0.65892318,\n",
       "       0.65892318, 0.65892318, 0.65892318, 0.65892318, 0.65892318,\n",
       "       0.65892318, 0.65892318, 0.65892318, 0.65892318, 0.65892318,\n",
       "       0.65892318, 0.65892318, 0.65892318, 0.65892318, 0.65892318,\n",
       "       0.65769321, 0.65892318, 0.65769321, 0.65892318, 0.65769321,\n",
       "       0.65892318, 0.65769321, 0.65892318, 0.65769321, 0.65892318,\n",
       "       0.65769321, 0.65892318, 0.65769321, 0.65892318, 0.65769321,\n",
       "       0.65892318, 0.6564722 , 0.65892318, 0.6564722 , 0.65892318,\n",
       "       0.6564722 , 0.65892318, 0.6564722 , 0.65892318, 0.6564722 ,\n",
       "       0.65892318, 0.6564722 , 0.65892318, 0.6564722 , 0.65892318,\n",
       "       0.6564722 , 0.65892318, 0.65892318, 0.65892318, 0.65892318,\n",
       "       0.65892318, 0.65892318, 0.65892318, 0.65892318, 0.65892318,\n",
       "       0.65892318, 0.65892318, 0.65892318, 0.65892318, 0.65892318,\n",
       "       0.65892318, 0.65892318, 0.65892318, 0.6589187 , 0.65892318,\n",
       "       0.6589187 , 0.65892318, 0.6589187 , 0.65892318, 0.6589187 ,\n",
       "       0.65892318, 0.6589187 , 0.65892318, 0.6589187 , 0.65892318,\n",
       "       0.6589187 , 0.65892318, 0.6589187 ])"
      ]
     },
     "execution_count": 45,
     "metadata": {},
     "output_type": "execute_result"
    }
   ],
   "source": [
    "mlp = MLPClassifier(random_state = 0)\n",
    "\n",
    "parameter_space = {\n",
    "    'activation' : ['tanh', 'relu'],\n",
    "    'max_iter': [500, 1000, 2000,3000],\n",
    "    'hidden_layer_sizes': [(100,50,25),(4,3,2), (50,40,25)],\n",
    "    'solver': ['sgd', 'adam'],\n",
    "    'alpha': [0.0001, 0.05, 0.1],\n",
    "    'learning_rate': ['constant','adaptive'],\n",
    "}\n",
    "search = GridSearchCV(mlp, parameter_space, n_jobs=-1, cv=3)\n",
    "search.fit(X_train_feat, y_train.loc[:,'win_side'])\n",
    "# Best parameters set\n",
    "print('Best parameters found:\\n', search.best_params_)\n",
    "means = search.cv_results_['mean_test_score']\n",
    "means\n",
    "#mlp.fit(X_train_feat,y_train.loc[:,'win_side'])\n",
    "#predict_test = mlp.predict(X_test_feat)\n",
    "#accuracy_score(y_test.loc[:,'win_side'],predict_test)"
   ]
  },
  {
   "cell_type": "code",
   "execution_count": 6,
   "id": "27fa32eb",
   "metadata": {},
   "outputs": [
    {
     "name": "stdout",
     "output_type": "stream",
     "text": [
      "[0.6390243902439025, 0.6390243902439025, 0.6390243902439025, 0.6390243902439025, 0.6390243902439025]\n"
     ]
    }
   ],
   "source": [
    "max_iter = [250,500,1000,2000,5000]\n",
    "activation = ['tanh', 'relu']\n",
    "hidden_layer_sizes = [(4,3,2), (10,5,2), (50,40,25)]\n",
    "solver = ['sgd', 'adam']\n",
    "alpha = [0.0001, 0.001, 0.05, 0.1]\n",
    "learning_rate = ['constant','adaptive']\n",
    "accuracy = []\n",
    "for val in max_iter:\n",
    "    mlp = MLPClassifier(max_iter=val, random_state = 0)\n",
    "    mlp.fit(X_train_feat, y_train.loc[:,'win_side'])\n",
    "    pred = mlp.predict(X_test_feat)\n",
    "    accuracy.append(accuracy_score(y_test.loc[:,'win_side'],pred))\n",
    "print(accuracy)\n",
    "#All levels of iterations seem to be the same"
   ]
  },
  {
   "cell_type": "code",
   "execution_count": 54,
   "id": "7cc50c08",
   "metadata": {},
   "outputs": [
    {
     "name": "stdout",
     "output_type": "stream",
     "text": [
      "[0.6292682926829268, 0.6585365853658537, 0.6682926829268293]\n"
     ]
    }
   ],
   "source": [
    "accuracy = []\n",
    "for val in hidden_layer_sizes:\n",
    "    mlp = MLPClassifier(hidden_layer_sizes = val, max_iter=500, random_state = 0)\n",
    "    mlp.fit(X_train_feat, y_train.loc[:,'win_side'])\n",
    "    pred = mlp.predict(X_test_feat)\n",
    "    accuracy.append(accuracy_score(y_test.loc[:,'win_side'],pred))\n",
    "print(accuracy)"
   ]
  },
  {
   "cell_type": "code",
   "execution_count": 55,
   "id": "899d357f",
   "metadata": {},
   "outputs": [
    {
     "name": "stdout",
     "output_type": "stream",
     "text": [
      "[0.6341463414634146, 0.6292682926829268, 0.6585365853658537, 0.6682926829268293]\n"
     ]
    }
   ],
   "source": [
    "accuracy = []\n",
    "for val in activation:\n",
    "    mlp = MLPClassifier(hidden_layer_sizes = (50,40,25), max_iter=500, random_state = 0, activation = val)\n",
    "    mlp.fit(X_train_feat, y_train.loc[:,'win_side'])\n",
    "    pred = mlp.predict(X_test_feat)\n",
    "    accuracy.append(accuracy_score(y_test.loc[:,'win_side'],pred))\n",
    "print(accuracy)\n",
    "#Relu seems to be the best"
   ]
  },
  {
   "cell_type": "code",
   "execution_count": 56,
   "id": "0f918e4a",
   "metadata": {},
   "outputs": [
    {
     "name": "stdout",
     "output_type": "stream",
     "text": [
      "[0.6292682926829268, 0.6682926829268293]\n"
     ]
    }
   ],
   "source": [
    "accuracy = []\n",
    "for val in solver:\n",
    "    mlp = MLPClassifier(hidden_layer_sizes = (50,40,25), max_iter=500, \n",
    "                        random_state = 0, activation = 'relu', solver=val)\n",
    "    mlp.fit(X_train_feat, y_train.loc[:,'win_side'])\n",
    "    pred = mlp.predict(X_test_feat)\n",
    "    accuracy.append(accuracy_score(y_test.loc[:,'win_side'],pred))\n",
    "print(accuracy)\n",
    "#Adam solver seems best"
   ]
  },
  {
   "cell_type": "code",
   "execution_count": 60,
   "id": "0fafefca",
   "metadata": {
    "scrolled": true
   },
   "outputs": [
    {
     "name": "stdout",
     "output_type": "stream",
     "text": [
      "[0.6682926829268293, 0.6634146341463415, 0.6634146341463415, 0.6536585365853659]\n"
     ]
    }
   ],
   "source": [
    "accuracy = []\n",
    "for val in alpha:\n",
    "    mlp = MLPClassifier(hidden_layer_sizes = (50,40,25), max_iter=500,\n",
    "                        random_state = 0, activation = 'relu', solver='adam', alpha = val)\n",
    "    mlp.fit(X_train_feat, y_train.loc[:,'win_side'])\n",
    "    pred = mlp.predict(X_test_feat)\n",
    "    accuracy.append(accuracy_score(y_test.loc[:,'win_side'],pred))\n",
    "print(accuracy)\n",
    "#Alpha val of 0.0001 seems best"
   ]
  },
  {
   "cell_type": "code",
   "execution_count": null,
   "id": "b2613301",
   "metadata": {},
   "outputs": [],
   "source": [
    "fig, ax = plt.subplots(nrows=1, ncols=1, figsize=(20,10))\n",
    "epochs_array = max_iter\n",
    "colors = ['steelblue','grey','red']\n",
    "\n",
    "for i,val in enumerate(accuracy): \n",
    "    ax.plot(epochs_array, val.acc_train_array, ls = 'dashed',color=colors[i], label=f\"Train Accuracy: {val.sizes[1]}\")\n",
    "    ax.plot(epochs_array, val.acc_test_array,color=colors[i], label=f\"Test Accuracy: {val.sizes[1]}\" )\n",
    "    ax.legend(loc=\"center right\", fontsize=16)\n",
    "\n",
    "\n",
    "ax.legend(loc=\"lower right\", fontsize=16)\n",
    "ax.set_xlabel(\"epochs\", fontsize=16)\n",
    "ax.set_ylabel(\"accuracy\", fontsize=16)\n",
    "plt.show()"
   ]
  }
 ],
 "metadata": {
  "kernelspec": {
   "display_name": "Python 3 (ipykernel)",
   "language": "python",
   "name": "python3"
  },
  "language_info": {
   "codemirror_mode": {
    "name": "ipython",
    "version": 3
   },
   "file_extension": ".py",
   "mimetype": "text/x-python",
   "name": "python",
   "nbconvert_exporter": "python",
   "pygments_lexer": "ipython3",
   "version": "3.9.7"
  }
 },
 "nbformat": 4,
 "nbformat_minor": 5
}
