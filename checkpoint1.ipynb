{
 "cells": [
  {
   "cell_type": "code",
   "execution_count": 1,
   "metadata": {},
   "outputs": [],
   "source": [
    "import numpy as np\n",
    "import pandas as pd\n",
    "from convokit import Corpus, download"
   ]
  },
  {
   "cell_type": "markdown",
   "metadata": {},
   "source": [
    "**Team:** Amari Bauer, Matt Ryan, Francesca Vescia\n",
    "\n",
    "**Data:** We will train our model on transcripts from the 1024 Roberts court cases with clear winners and available utterance data. We chose to focus on Roberts court cases because we hope to eventually use our model to predict the outcomes of new cases before rulings are issued. John Roberts is the current Chief Justice of the United States, so upcoming Supreme Court cases will be argued before his court. We expect a model trained exclusively on past Roberts court cases will have higher predictive accuracy for these cases than a model trained on the full corpus, which includes transcripts from older cases heard before other courts in notably different times. Our goal is to predict whether or not a case will be decided favorably for a petitioner, so we exclude cases where information about the winning side is unclear or altogether unavailable. We will use features of case utterances to predict case outcomes, so we exclude cases with no available utterance data."
   ]
  },
  {
   "cell_type": "code",
   "execution_count": 2,
   "metadata": {},
   "outputs": [
    {
     "name": "stdout",
     "output_type": "stream",
     "text": [
      "Dataset already exists at /Users/amaribauer/.convokit/downloads/supreme-corpus\n"
     ]
    }
   ],
   "source": [
    "corpus = Corpus(filename=download('supreme-corpus'))"
   ]
  },
  {
   "cell_type": "code",
   "execution_count": 3,
   "metadata": {},
   "outputs": [],
   "source": [
    "# PREPROCESSING\n",
    "\n",
    "# All cases\n",
    "cases = pd.read_json(path_or_buf='data/cases.jsonl', lines=True)\n",
    "\n",
    "# Cases with clear winners\n",
    "df = cases.loc[cases.loc[:, 'win_side'].isin([1, 0])]\n",
    "\n",
    "# Roberts court cases with clear winners\n",
    "roberts = df.loc[df.loc[:, 'court'] == 'Roberts Court', :]\n",
    "\n",
    "# All utterances\n",
    "all_utts = corpus.get_utterances_dataframe()\n",
    "\n",
    "# Roberts court case utterances\n",
    "roberts_ids = roberts.loc[:, 'id'].unique()\n",
    "utts = all_utts.loc[all_utts.loc[:, 'meta.case_id'].isin(roberts_ids)]"
   ]
  },
  {
   "cell_type": "code",
   "execution_count": 4,
   "metadata": {},
   "outputs": [
    {
     "name": "stdout",
     "output_type": "stream",
     "text": [
      "1024 cases\n",
      "65.33 percent of cases were decided favorably for the petitioner\n"
     ]
    }
   ],
   "source": [
    "# FINAL SUBSET\n",
    "\n",
    "# Roberts court cases with clearn winners and utterance data\n",
    "    # Unique case IDs from utts indicate the number of Roberts court cases\n",
    "    # the corpus has utterance data for\n",
    "subset_ids = utts.loc[:, 'meta.case_id'].unique()\n",
    "    # Use these ids to subset the roberts data frame\n",
    "    # (exclude cases without utterance data)\n",
    "subset = roberts.loc[roberts.loc[:, 'id'].isin(subset_ids)]\n",
    "print(len(subset), 'cases')\n",
    "petitioner_wins = subset.loc[:, 'win_side'].mean()\n",
    "print(round(petitioner_wins * 100, 2),\n",
    "      'percent of cases were decided favorably for the petitioner')"
   ]
  },
  {
   "cell_type": "code",
   "execution_count": 5,
   "metadata": {},
   "outputs": [
    {
     "name": "stdout",
     "output_type": "stream",
     "text": [
      "Min: 1\n",
      "Max: 1235\n",
      "Mean 237.3955078125\n"
     ]
    }
   ],
   "source": [
    "# Utterances per case\n",
    "print('Min:', utts.groupby(['meta.case_id']).size().min()) \n",
    "    # TODO: What case(s) have just 1 utterance?\n",
    "print('Max:', utts.groupby(['meta.case_id']).size().max())\n",
    "print('Mean', utts.groupby(['meta.case_id']).size().mean())"
   ]
  },
  {
   "cell_type": "code",
   "execution_count": 6,
   "metadata": {},
   "outputs": [
    {
     "name": "stdout",
     "output_type": "stream",
     "text": [
      "Min: conversation_id    1\n",
      "dtype: int64\n",
      "Max: conversation_id    4\n",
      "dtype: int64\n",
      "Mean: conversation_id    1.016602\n",
      "dtype: float64\n"
     ]
    }
   ],
   "source": [
    "# Conversations per case\n",
    "print('Min:', (utts.loc[:, ['meta.case_id', 'conversation_id']]\n",
    "               .groupby(['meta.case_id']).nunique().min()))\n",
    "print('Max:', (utts.loc[:, ['meta.case_id', 'conversation_id']]\n",
    "               .groupby(['meta.case_id']).nunique().max()))\n",
    "print('Mean:', (utts.loc[:, ['meta.case_id', 'conversation_id']]\n",
    "                .groupby(['meta.case_id']).nunique().mean()))"
   ]
  },
  {
   "cell_type": "code",
   "execution_count": 7,
   "metadata": {},
   "outputs": [
    {
     "name": "stdout",
     "output_type": "stream",
     "text": [
      "speaker    1\n",
      "dtype: int64\n",
      "speaker    15\n",
      "dtype: int64\n",
      "speaker    10.225586\n",
      "dtype: float64\n"
     ]
    }
   ],
   "source": [
    "# Speakers per case\n",
    "print(utts.loc[:, ['meta.case_id', 'speaker']]\n",
    "      .groupby(['meta.case_id']).nunique().min()) \n",
    "    # TODO: What case(s) have just 1 speaker?\n",
    "print(utts.loc[:, ['meta.case_id', 'speaker']]\n",
    "      .groupby(['meta.case_id']).nunique().max())\n",
    "print(utts.loc[:, ['meta.case_id', 'speaker']]\n",
    "      .groupby(['meta.case_id']).nunique().mean())"
   ]
  },
  {
   "cell_type": "code",
   "execution_count": 8,
   "metadata": {},
   "outputs": [
    {
     "name": "stdout",
     "output_type": "stream",
     "text": [
      "meta.speaker_type\n",
      "A    116108\n",
      "J    125594\n",
      "dtype: int64\n",
      "Advocates (lawyers): 0.4803766621707723\n",
      "Justices: 0.5196233378292278\n"
     ]
    }
   ],
   "source": [
    "# Speaker type breakdown for the average Roberts court case\n",
    "speaker_types = (utts.loc[utts.loc[:, 'meta.case_id'].isin(roberts_ids)]\n",
    "                 .groupby(['meta.speaker_type']).size())\n",
    "print(speaker_types)\n",
    "print('Advocates (lawyers):', 116108 / (116108 + 125594))\n",
    "print('Justices:', 125594 / (116108 + 125594))"
   ]
  },
  {
   "cell_type": "code",
   "execution_count": 9,
   "metadata": {},
   "outputs": [
    {
     "name": "stdout",
     "output_type": "stream",
     "text": [
      "meta.side\n",
      "0    52498\n",
      "1    53130\n",
      "2     8043\n",
      "3     2437\n",
      "dtype: int64\n",
      "Respondent: 0.4521480001378027\n",
      "Petitioners: 0.4575912081854825\n",
      "Amicus: 0.06927171254349399\n",
      "Unknown: 0.020989079133220793\n"
     ]
    }
   ],
   "source": [
    "# Side breakdown for the average Roberts court case\n",
    "sides = (utts.loc[utts.loc[:, 'meta.case_id'].isin(roberts_ids)]\n",
    "         .groupby(['meta.side']).size())\n",
    "print(sides)\n",
    "print('Respondent:', 52498 / (52498 + 53130 + 8043 + 2437))\n",
    "print('Petitioners:', 53130 / (52498 + 53130 + 8043 + 2437))\n",
    "print('Amicus:', 8043 / (52498 + 53130 + 8043 + 2437))\n",
    "print('Unknown:', 2437 / (52498 + 53130 + 8043 + 2437))"
   ]
  },
  {
   "cell_type": "code",
   "execution_count": 10,
   "metadata": {},
   "outputs": [],
   "source": [
    "utts.to_csv('data/utts.csv')"
   ]
  },
  {
   "cell_type": "code",
   "execution_count": null,
   "metadata": {},
   "outputs": [],
   "source": []
  },
  {
   "cell_type": "code",
   "execution_count": null,
   "metadata": {},
   "outputs": [],
   "source": []
  }
 ],
 "metadata": {
  "kernelspec": {
   "display_name": "Python 3 (ipykernel)",
   "language": "python",
   "name": "python3"
  },
  "language_info": {
   "codemirror_mode": {
    "name": "ipython",
    "version": 3
   },
   "file_extension": ".py",
   "mimetype": "text/x-python",
   "name": "python",
   "nbconvert_exporter": "python",
   "pygments_lexer": "ipython3",
   "version": "3.9.7"
  }
 },
 "nbformat": 4,
 "nbformat_minor": 2
}
