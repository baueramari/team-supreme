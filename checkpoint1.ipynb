{
 "cells": [
  {
   "cell_type": "code",
   "execution_count": 2,
   "metadata": {},
   "outputs": [],
   "source": [
    "import numpy as np\n",
    "import pandas as pd\n",
    "from convokit import Corpus, download"
   ]
  },
  {
   "attachments": {},
   "cell_type": "markdown",
   "metadata": {},
   "source": [
    "**Team:** Amari Bauer, Matt Ryan, Francesca Vescia\n",
    "\n",
    "**Data:** We will train our model on transcripts from the 1024 Roberts court cases with clear winners and available utterance data. We chose to focus on Roberts court cases because we hope to eventually use our model to predict the outcomes of new cases before rulings are issued. John Roberts is the current Chief Justice of the United States, so upcoming Supreme Court cases will be argued before his court. We expect a model trained exclusively on past Roberts court cases will have higher predictive accuracy for these cases than a model trained on the full corpus, which includes transcripts from older cases heard before other courts in notably different times. Our goal is to predict whether or not a case will be decided favorably for a petitioner, so we exclude cases where information about the winning side is unclear or altogether unavailable. We will use features of case utterances to predict case outcomes, so we exclude cases with no available utterance data."
   ]
  },
  {
   "cell_type": "code",
   "execution_count": 3,
   "metadata": {},
   "outputs": [
    {
     "name": "stdout",
     "output_type": "stream",
     "text": [
      "Dataset already exists at /Users/fvescia/.convokit/downloads/supreme-corpus\n"
     ]
    }
   ],
   "source": [
    "corpus = Corpus(filename=download('supreme-corpus'))"
   ]
  },
  {
   "cell_type": "code",
   "execution_count": 4,
   "metadata": {},
   "outputs": [
    {
     "data": {
      "text/plain": [
       "1024"
      ]
     },
     "execution_count": 4,
     "metadata": {},
     "output_type": "execute_result"
    }
   ],
   "source": [
    "# All cases\n",
    "cases = pd.read_json(path_or_buf='data/cases.jsonl', lines=True)\n",
    "\n",
    "# Cases with clear winners\n",
    "df = cases.loc[cases.loc[:, 'win_side'].isin([1, 0])]\n",
    "\n",
    "# Roberts court cases with clear winners\n",
    "roberts = df.loc[df.loc[:, 'court'] == 'Roberts Court', :]\n",
    "\n",
    "# All utterances\n",
    "all_utts = corpus.get_utterances_dataframe()\n",
    "\n",
    "# Roberts court case utterances\n",
    "ids = roberts.loc[:, 'id'].unique()\n",
    "utts = all_utts.loc[all_utts.loc[:, 'meta.case_id'].isin(ids)]\n",
    "\n",
    "# Roberts court cases with clearn winners and utterance data\n",
    "cases = utts.groupby(['meta.case_id'])\n",
    "len(cases)"
   ]
  },
  {
   "cell_type": "code",
   "execution_count": 5,
   "metadata": {},
   "outputs": [
    {
     "name": "stdout",
     "output_type": "stream",
     "text": [
      "meta.speaker_type\n",
      "A    116108\n",
      "J    125594\n",
      "dtype: int64\n",
      "Advocates: 0.4803766621707723\n",
      "Judges: 0.5196233378292278\n"
     ]
    }
   ],
   "source": [
    "speaker_types = utts.loc[utts.loc[:, 'meta.case_id'].isin(ids)].groupby(['meta.speaker_type']).size()\n",
    "print(speaker_types)\n",
    "print('Advocates:', 116108 / (116108 + 125594))\n",
    "print('Judges:', 125594 / (116108 + 125594))"
   ]
  },
  {
   "cell_type": "code",
   "execution_count": 6,
   "metadata": {},
   "outputs": [
    {
     "name": "stdout",
     "output_type": "stream",
     "text": [
      "meta.side\n",
      "0    52498\n",
      "1    53130\n",
      "2     8043\n",
      "3     2437\n",
      "dtype: int64\n",
      "Respondent: 0.4521480001378027\n",
      "Petitioners: 0.4575912081854825\n",
      "Amicus: 0.06927171254349399\n",
      "Unknown: 0.020989079133220793\n"
     ]
    }
   ],
   "source": [
    "sides = utts.loc[utts.loc[:, 'meta.case_id'].isin(ids)].groupby(['meta.side']).size()\n",
    "print(sides)\n",
    "print('Respondent:', 52498 / (52498 + 53130 + 8043 + 2437))\n",
    "print('Petitioners:', 53130 / (52498 + 53130 + 8043 + 2437))\n",
    "print('Amicus:', 8043 / (52498 + 53130 + 8043 + 2437))\n",
    "print('Unknown:', 2437 / (52498 + 53130 + 8043 + 2437))"
   ]
  }
 ],
 "metadata": {
  "kernelspec": {
   "display_name": "Python 3",
   "language": "python",
   "name": "python3"
  },
  "language_info": {
   "codemirror_mode": {
    "name": "ipython",
    "version": 3
   },
   "file_extension": ".py",
   "mimetype": "text/x-python",
   "name": "python",
   "nbconvert_exporter": "python",
   "pygments_lexer": "ipython3",
   "version": "3.11.1"
  },
  "orig_nbformat": 4
 },
 "nbformat": 4,
 "nbformat_minor": 2
}
