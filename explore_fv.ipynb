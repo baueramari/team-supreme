{
 "cells": [
  {
   "cell_type": "code",
   "execution_count": 10,
   "metadata": {},
   "outputs": [],
   "source": [
    "import numpy as np\n",
    "import pandas as pd\n",
    "import regex as re\n",
    "import gender_guesser.detector as gender"
   ]
  },
  {
   "cell_type": "code",
   "execution_count": 3,
   "metadata": {},
   "outputs": [
    {
     "data": {
      "text/plain": [
       "Index(['timestamp', 'text', 'speaker', 'reply_to', 'conversation_id',\n",
       "       'meta.case_id', 'meta.start_times', 'meta.stop_times',\n",
       "       'meta.speaker_type', 'meta.side', 'meta.timestamp', 'vectors',\n",
       "       'utt_counts'],\n",
       "      dtype='object')"
      ]
     },
     "execution_count": 3,
     "metadata": {},
     "output_type": "execute_result"
    }
   ],
   "source": [
    "# https://stackoverflow.com/questions/31621414/share-data-between-ipython-notebooks/60863662\n",
    "%store -r utts\n",
    "utts.columns"
   ]
  },
  {
   "cell_type": "code",
   "execution_count": 79,
   "metadata": {},
   "outputs": [],
   "source": [
    "# https://pypi.org/project/gender-guesser/\n",
    "d = gender.Detector()\n",
    "\n",
    "def guess_gender(name):\n",
    "    name = re.sub('j__', '', name)\n",
    "    name = re.sub('_\\S*', '', name)\n",
    "    name = name.capitalize()\n",
    "    guess = d.get_gender(name, 'usa')\n",
    "    return guess"
   ]
  },
  {
   "cell_type": "code",
   "execution_count": 101,
   "metadata": {},
   "outputs": [
    {
     "name": "stdout",
     "output_type": "stream",
     "text": [
      "Before subsetting:\n",
      "['male' 'female' 'andy' 'mostly_male' 'unknown' 'mostly_female']\n",
      "<bound method NDFrame.droplevel of                gender\n",
      "                count\n",
      "gender               \n",
      "andy            29443\n",
      "female          41616\n",
      "male           158444\n",
      "mostly_female    1926\n",
      "mostly_male      3099\n",
      "unknown          8564>\n",
      "\n",
      "After subsetting:\n",
      "['male' 'female' 'mostly_male' 'mostly_female']\n",
      "<bound method NDFrame.droplevel of                gender\n",
      "                count\n",
      "gender               \n",
      "female          41616\n",
      "male           158444\n",
      "mostly_female    1926\n",
      "mostly_male      3099>\n"
     ]
    }
   ],
   "source": [
    "# Guess gender\n",
    "gendr = utts.loc[:, ['meta.case_id', 'speaker' ]].copy()\n",
    "gendr.loc[:, 'gender'] = gendr.loc[:, 'speaker'].map(guess_gender)\n",
    "print('Before subsetting:')\n",
    "print(gendr.loc[:, 'gender'].unique())\n",
    "print(gendr.groupby('gender').agg({'gender': ['count']}).droplevel)\n",
    "\n",
    "# Restrict to confident guesses\n",
    "gendr = gendr.loc[gendr.loc[:, 'gender'].isin(['female', 'mostly_female', \n",
    "                                               'mostly_male', 'male'])]\n",
    "print('\\nAfter subsetting:')\n",
    "print(gendr.loc[:, 'gender'].unique())\n",
    "print(gendr.groupby('gender').agg({'gender': ['count']}).droplevel)\n",
    "\n",
    "# Compute female_utt_share \n",
    "    # = (N female + N mostly_female) / \n",
    "    # (N female + N mostly_female + N male + N mostly_male)\n",
    "gendr.loc[:, 'gender_num'] = gendr.loc[:, 'gender'].isin(['female', \n",
    "                                                          'mostly_female'])\n",
    "gendr = gendr.groupby('meta.case_id').agg({'gender_num': ['sum', 'count']})\n",
    "gendr.columns = ['female_utts', 'total_utts']\n",
    "gendr.loc[:, 'female_utt_share'] = (gendr.loc[:, 'female_utts'] /\n",
    "                                    gendr.loc[:, 'total_utts'])\n",
    "gendr = gendr.loc[:, ['female_utt_share']]"
   ]
  },
  {
   "cell_type": "code",
   "execution_count": 105,
   "metadata": {},
   "outputs": [
    {
     "name": "stdout",
     "output_type": "stream",
     "text": [
      "Summary Stats for female_utt_share\n",
      "Min: 0.008620689655172414\n",
      "Max: 0.8285714285714286\n",
      "Mean: 0.2155638073950437\n",
      "Median: 0.17346938775510204\n"
     ]
    }
   ],
   "source": [
    "print('Summary Stats for female_utt_share')\n",
    "print('Min:', gendr.loc[:, 'female_utt_share'].min())\n",
    "print('Max:', gendr.loc[:, 'female_utt_share'].max())\n",
    "print('Mean:', gendr.loc[:, 'female_utt_share'].mean())\n",
    "print('Median:', gendr.loc[:, 'female_utt_share'].median())"
   ]
  }
 ],
 "metadata": {
  "kernelspec": {
   "display_name": "Python 3",
   "language": "python",
   "name": "python3"
  },
  "language_info": {
   "codemirror_mode": {
    "name": "ipython",
    "version": 3
   },
   "file_extension": ".py",
   "mimetype": "text/x-python",
   "name": "python",
   "nbconvert_exporter": "python",
   "pygments_lexer": "ipython3",
   "version": "3.11.1"
  },
  "orig_nbformat": 4
 },
 "nbformat": 4,
 "nbformat_minor": 2
}
