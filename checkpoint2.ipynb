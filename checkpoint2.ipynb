{
 "cells": [
  {
   "cell_type": "code",
   "execution_count": 1,
   "metadata": {},
   "outputs": [],
   "source": [
    "import numpy as np\n",
    "import pandas as pd\n",
    "import re\n",
    "from convokit import Corpus, download\n",
    "from sklearn.feature_extraction.text import CountVectorizer\n",
    "from sklearn.model_selection import train_test_split\n",
    "from sklearn.naive_bayes import GaussianNB\n",
    "from sklearn.metrics import accuracy_score, precision_score"
   ]
  },
  {
   "cell_type": "code",
   "execution_count": 2,
   "metadata": {},
   "outputs": [
    {
     "data": {
      "text/plain": [
       "1024"
      ]
     },
     "execution_count": 2,
     "metadata": {},
     "output_type": "execute_result"
    }
   ],
   "source": [
    "utts = pd.read_csv('data/utts.csv')\n",
    "roberts = pd.read_csv('data/subset.csv')"
   ]
  },
  {
   "cell_type": "code",
   "execution_count": 3,
   "metadata": {},
   "outputs": [
    {
     "data": {
      "text/plain": [
       "\"\\nKaren recommended this over doing the Count Vectorization but I'm not yet clear\\nhow this works, in progress\\n\""
      ]
     },
     "execution_count": 3,
     "metadata": {},
     "output_type": "execute_result"
    }
   ],
   "source": [
    "#corpus = Corpus(filename=download('supreme-corpus'))\n",
    "#corpus.load_info('utterance',['tokens']) \n",
    "\"\"\"\n",
    "Karen recommended this over doing the Count Vectorization but I'm not yet clear\n",
    "how this works, in progress\n",
    "\"\"\""
   ]
  },
  {
   "cell_type": "code",
   "execution_count": 4,
   "metadata": {},
   "outputs": [],
   "source": [
    "\"\"\"\n",
    "Everything below is for a Naive Bayes model which is distinctly \n",
    "not what we said but I wanted to get a general feel for building a model and things that we may want to tweak \n",
    "for our Bag of Words and beyond.\n",
    "\"\"\"\n",
    "utts['text'].replace('\\d+', '', regex=True, inplace = True) #remove numbers, decide as group if this makes sense\n",
    "group_utts = utts.groupby('meta.case_id')['text'].apply(' '.join)\n",
    "#NOTE: No stemming or lemmatization done at this point\n",
    "df = pd.merge(group_utts,roberts[['id','win_side']], how = 'left', \n",
    "              left_on = 'meta.case_id', right_on = 'id')"
   ]
  },
  {
   "cell_type": "code",
   "execution_count": 5,
   "metadata": {},
   "outputs": [
    {
     "name": "stdout",
     "output_type": "stream",
     "text": [
      "      aa  aaa  aagency  aaidd  aals  aamr  aaron  aarp  aau  aaup  ...  \\\n",
      "0      0    0        0      0     0     0      0     0    0     0  ...   \n",
      "1      0    0        0      0     0     0      0     0    0     0  ...   \n",
      "2      0    0        0      0     0     0      0     0    0     0  ...   \n",
      "3      0    0        0      0     0     0      0     0    0     0  ...   \n",
      "4      0    0        0      0     0     0      0     0    0     0  ...   \n",
      "...   ..  ...      ...    ...   ...   ...    ...   ...  ...   ...  ...   \n",
      "1019   0    0        0      0     0     0      0     0    0     0  ...   \n",
      "1020   0    0        0      0     0     0      0     0    0     0  ...   \n",
      "1021   0    0        0      0     0     0      0     0    0     0  ...   \n",
      "1022   0    0        0      0     0     0      0     0    0     0  ...   \n",
      "1023   0    0        0      0     0     0      0     0    0     0  ...   \n",
      "\n",
      "      zooming  zuber  zubik  zubin  zug  zumudio  zuni  zurich  zurko  \\\n",
      "0           0      0      0      0    0        0     0       0      0   \n",
      "1           0      0      0      0    0        0     0       0      0   \n",
      "2           0      0      0      0    0        0     0       0      0   \n",
      "3           0      0      0      0    0        0     0       0      0   \n",
      "4           0      0      0      1    0        0     0       0      0   \n",
      "...       ...    ...    ...    ...  ...      ...   ...     ...    ...   \n",
      "1019        0      0      0      0    0        0     0       0      0   \n",
      "1020        0      0      0      0    0        0     0       0      0   \n",
      "1021        0      0      0      0    0        0     0       0      0   \n",
      "1022        0      0      0      0    0        0     0       0      0   \n",
      "1023        0      0      0      0    0        0     0       0      0   \n",
      "\n",
      "      zwickler  \n",
      "0            0  \n",
      "1            0  \n",
      "2            0  \n",
      "3            0  \n",
      "4            0  \n",
      "...        ...  \n",
      "1019         0  \n",
      "1020         0  \n",
      "1021         0  \n",
      "1022         0  \n",
      "1023         0  \n",
      "\n",
      "[1024 rows x 38419 columns]\n"
     ]
    }
   ],
   "source": [
    "coun_vect = CountVectorizer(stop_words = 'english')\n",
    "count_df = coun_vect.fit_transform(df['text'])\n",
    "count_array = count_df.toarray()\n",
    "count_df = pd.DataFrame(count_array,columns = coun_vect.get_feature_names())\n",
    "print(count_df)"
   ]
  },
  {
   "cell_type": "code",
   "execution_count": 6,
   "metadata": {},
   "outputs": [],
   "source": [
    "X_train, X_test, y_train, y_test = train_test_split(\n",
    "    count_df,roberts['win_side'], test_size = 0.2, random_state = 0)"
   ]
  },
  {
   "cell_type": "code",
   "execution_count": 7,
   "metadata": {},
   "outputs": [],
   "source": [
    "model = GaussianNB() \n",
    "model.fit(X_train,y_train)\n",
    "win_pred = model.predict(X_test)"
   ]
  },
  {
   "cell_type": "code",
   "execution_count": 8,
   "metadata": {},
   "outputs": [
    {
     "name": "stdout",
     "output_type": "stream",
     "text": [
      "0.5902439024390244\n",
      "0.6862745098039216\n"
     ]
    }
   ],
   "source": [
    "print(accuracy_score(y_test,win_pred))\n",
    "\"\"\"\n",
    "this accuracy is notably worse than the 'just say the petitioner will win \n",
    "every time and you'll be right 65% of the time'\n",
    "\"\"\"\n",
    "print(precision_score(y_test,win_pred))"
   ]
  },
  {
   "cell_type": "code",
   "execution_count": null,
   "metadata": {},
   "outputs": [],
   "source": []
  }
 ],
 "metadata": {
  "kernelspec": {
   "display_name": "Python 3 (ipykernel)",
   "language": "python",
   "name": "python3"
  },
  "language_info": {
   "codemirror_mode": {
    "name": "ipython",
    "version": 3
   },
   "file_extension": ".py",
   "mimetype": "text/x-python",
   "name": "python",
   "nbconvert_exporter": "python",
   "pygments_lexer": "ipython3",
   "version": "3.9.7"
  }
 },
 "nbformat": 4,
 "nbformat_minor": 2
}
