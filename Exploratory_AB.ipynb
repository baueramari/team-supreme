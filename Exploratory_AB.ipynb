{
 "cells": [
  {
   "cell_type": "code",
   "execution_count": 1,
   "metadata": {},
   "outputs": [],
   "source": [
    "import numpy as np\n",
    "import pandas as pd\n",
    "import re\n",
    "from convokit import Corpus, download\n",
    "from sklearn.feature_extraction.text import CountVectorizer\n",
    "from sklearn.model_selection import train_test_split\n",
    "from sklearn.naive_bayes import GaussianNB\n",
    "from sklearn.metrics import accuracy_score, precision_score"
   ]
  },
  {
   "cell_type": "code",
   "execution_count": 2,
   "metadata": {},
   "outputs": [],
   "source": [
    "utts = pd.read_csv('data/utts.csv')\n",
    "roberts = pd.read_csv('data/subset.csv')\n",
    "#UPDATE THIS WHOLE FILE TO LOAD IN THE UNIGRAM BAG OF WORDS FEATURE SETS AND WORK FROM THERE"
   ]
  },
  {
   "cell_type": "code",
   "execution_count": 3,
   "metadata": {},
   "outputs": [],
   "source": [
    "\"\"\"\n",
    "Everything below is for a Naive Bayes model which is distinctly \n",
    "not what we said but I wanted to get a general feel for building a model and things that we may want to tweak \n",
    "for our Bag of Words and beyond.\n",
    "\"\"\"\n",
    "utts['text'].replace('\\d+', '', regex=True, inplace = True) #remove numbers, decide as group if this makes sense\n",
    "group_utts = utts.groupby('meta.case_id')['text'].apply(' '.join)\n",
    "#NOTE: No stemming or lemmatization done at this point\n",
    "df = pd.merge(group_utts,roberts[['id','win_side']], how = 'left', \n",
    "              left_on = 'meta.case_id', right_on = 'id')\n",
    "X_train, X_test, y_train, y_test = train_test_split(\n",
    "    df.loc[:,df.columns != 'win_side'],df['win_side'], test_size = 0.2, random_state = 0)"
   ]
  },
  {
   "cell_type": "code",
   "execution_count": 4,
   "metadata": {},
   "outputs": [],
   "source": [
    "count_vect = CountVectorizer(stop_words = 'english') #play around with ngrams, max/min df args\n",
    "count_df = count_vect.fit_transform(X_train['text'])\n",
    "count_array = count_df.toarray()\n",
    "count_df = pd.DataFrame(count_array,columns = count_vect.get_feature_names(), index = X_train['id'])"
   ]
  },
  {
   "cell_type": "code",
   "execution_count": 5,
   "metadata": {},
   "outputs": [],
   "source": [
    "count_test = count_vect.transform(X_test['text'])\n",
    "count_test_array = count_test.toarray()\n",
    "count_test_df = pd.DataFrame(count_test_array, columns = count_vect.get_feature_names(),index = X_test['id'])"
   ]
  },
  {
   "cell_type": "code",
   "execution_count": 6,
   "metadata": {},
   "outputs": [
    {
     "name": "stdout",
     "output_type": "stream",
     "text": [
      "0.5902439024390244\n",
      "0.627906976744186\n"
     ]
    }
   ],
   "source": [
    "model = GaussianNB() \n",
    "model.fit(count_df,y_train)\n",
    "win_pred = model.predict(count_test_df)\n",
    "\n",
    "print(accuracy_score(y_test,win_pred))\n",
    "\"\"\"\n",
    "this accuracy is notably worse than the 'just say the petitioner will win \n",
    "every time and you'll be right 65% of the time'\n",
    "\"\"\"\n",
    "print(precision_score(y_test,win_pred))"
   ]
  },
  {
   "cell_type": "code",
   "execution_count": null,
   "metadata": {},
   "outputs": [],
   "source": []
  }
 ],
 "metadata": {
  "kernelspec": {
   "display_name": "Python 3 (ipykernel)",
   "language": "python",
   "name": "python3"
  },
  "language_info": {
   "codemirror_mode": {
    "name": "ipython",
    "version": 3
   },
   "file_extension": ".py",
   "mimetype": "text/x-python",
   "name": "python",
   "nbconvert_exporter": "python",
   "pygments_lexer": "ipython3",
   "version": "3.9.7"
  }
 },
 "nbformat": 4,
 "nbformat_minor": 2
}
