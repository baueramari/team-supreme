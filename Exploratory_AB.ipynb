{
 "cells": [
  {
   "cell_type": "code",
   "execution_count": 2,
   "metadata": {},
   "outputs": [],
   "source": [
    "import numpy as np\n",
    "import pandas as pd\n",
    "import re\n",
    "from convokit import Corpus, download\n",
    "from sklearn.feature_extraction.text import CountVectorizer\n",
    "from sklearn.model_selection import train_test_split\n",
    "from sklearn.naive_bayes import GaussianNB\n",
    "from sklearn.metrics import accuracy_score, precision_score, f1_score\n",
    "from sklearn.feature_extraction.text import TfidfTransformer\n",
    "from sklearn.linear_model import LogisticRegression"
   ]
  },
  {
   "cell_type": "code",
   "execution_count": 3,
   "metadata": {},
   "outputs": [],
   "source": [
    "utts = pd.read_csv('data/utts.csv')\n",
    "roberts = pd.read_csv('data/subset.csv')"
   ]
  },
  {
   "cell_type": "code",
   "execution_count": 52,
   "metadata": {},
   "outputs": [],
   "source": [
    "utt_counts = pd.DataFrame(utts.groupby(['meta.case_id']).size())\n",
    "utt_counts = utt_counts.reset_index()\n",
    "utt_counts = utt_counts.rename(columns={0: 'utt_counts'})\n",
    "utts = pd.merge(utts, utt_counts, how = 'left')\n",
    "utts = utts.loc[utts.loc[:, 'utt_counts'] != 1, :]\n",
    "utts.groupby(['meta.case_id']).size()\n",
    "\n",
    "utts['text'].replace('\\d+', '', regex=True, inplace = True) \n",
    "#remove numbers, decide as group if this makes sense\n",
    "#NOTE: No stemming or lemmatization done at this point\n",
    "convo_case = pd.DataFrame(utts.groupby('meta.case_id')['conversation_id'].nunique())\n",
    "convo_case.rename(columns = {'conversation_id':'convo_count'}, inplace = True)\n",
    "#Code to create conversations/case feature\n",
    "\n",
    "group_utts = utts.groupby('meta.case_id')['text'].apply(' '.join)\n",
    "df = pd.merge(group_utts,roberts[['id','win_side']], how = 'left', \n",
    "              left_on = 'meta.case_id', right_on = 'id')\n",
    "\n",
    "X_train, X_test, y_train, y_test = train_test_split(\n",
    "    df.loc[:,df.columns != 'win_side'],df['win_side'], test_size = 0.2, random_state = 0)\n",
    "\n",
    "#Plotting and Parameter tuning lists\n",
    "ngrams = [(1,1),(1,2),(2,2),(1,3),(3,3)]\n",
    "df_min = range(0,8)\n",
    "df_max = range(4,9)"
   ]
  },
  {
   "cell_type": "code",
   "execution_count": 54,
   "metadata": {},
   "outputs": [
    {
     "name": "stdout",
     "output_type": "stream",
     "text": [
      " \n",
      "0.624390243902439 max_df: 4\n",
      "0.6274509803921569\n",
      "0.7687687687687688\n",
      " \n",
      "0.624390243902439 max_df: 5\n",
      "0.6274509803921569\n",
      "0.7687687687687688\n",
      " \n",
      "0.624390243902439 max_df: 6\n",
      "0.6274509803921569\n",
      "0.7687687687687688\n",
      " \n",
      "0.624390243902439 max_df: 7\n",
      "0.6274509803921569\n",
      "0.7687687687687688\n",
      " \n",
      "0.624390243902439 max_df: 8\n",
      "0.6274509803921569\n",
      "0.7687687687687688\n"
     ]
    }
   ],
   "source": [
    "for val in df_max:#for val in df_min: #min_df = 4 is highest\n",
    "    count_vect = CountVectorizer(ngram_range = (1,1),min_df = 4, max_df = val,\n",
    "                stop_words = 'english', token_pattern = r'\\b[a-zA-Z]{3,}\\b') \n",
    "    count_df = count_vect.fit_transform(X_train['text'])\n",
    "    count_array = count_df.toarray()\n",
    "    count_df = pd.DataFrame(count_array,columns = count_vect.get_feature_names(), index = X_train['id'])\n",
    "    tfidf_transformer = TfidfTransformer()\n",
    "    X_train_tfidf = tfidf_transformer.fit_transform(count_df).toarray()\n",
    "    X_train_tfidf = pd.DataFrame(X_train_tfidf, columns = count_vect.get_feature_names(), index = X_train['id'])\n",
    "\n",
    "    X_train_tfidf = pd.merge(X_train_tfidf,convo_case, how = 'left', left_index = True, right_index = True)\n",
    "    #MERGING IN ADDITIONAL FEATURES HERE\n",
    "    #X_train_tfidf\n",
    "    count_test = count_vect.transform(X_test['text'])\n",
    "    count_test_array = count_test.toarray()\n",
    "    count_test_df = pd.DataFrame(count_test_array, columns = count_vect.get_feature_names(),index = X_test['id'])\n",
    "\n",
    "    X_test_tfidf = tfidf_transformer.transform(count_test_df).toarray()\n",
    "    X_test_tfidf = pd.DataFrame(X_test_tfidf, columns = count_vect.get_feature_names(), index = X_test['id'])\n",
    "    X_test_tfidf = pd.merge(X_test_tfidf,convo_case, how = 'left', left_index = True, right_index = True)\n",
    "    #X_test_tfidf\n",
    "    #model = GaussianNB()\n",
    "    model = LogisticRegression()\n",
    "    model.fit(X_train_tfidf,y_train)\n",
    "    win_pred = model.predict(X_test_tfidf)\n",
    "    print(' ')\n",
    "    print(accuracy_score(y_test,win_pred), 'max_df:',val)\n",
    "    \"\"\"\n",
    "    this accuracy is notably worse than the 'just say the petitioner will win \n",
    "    every time and you'll be right 65% of the time'\n",
    "    \"\"\"\n",
    "    print(precision_score(y_test,win_pred))\n",
    "    print(f1_score(y_test,win_pred))"
   ]
  },
  {
   "cell_type": "code",
   "execution_count": 38,
   "metadata": {},
   "outputs": [
    {
     "data": {
      "text/plain": [
       "0.6292682926829268"
      ]
     },
     "execution_count": 38,
     "metadata": {},
     "output_type": "execute_result"
    }
   ],
   "source": [
    "np.mean(y_test)"
   ]
  },
  {
   "cell_type": "code",
   "execution_count": 30,
   "metadata": {},
   "outputs": [
    {
     "name": "stdout",
     "output_type": "stream",
     "text": [
      "0.6390243902439025\n",
      "0.6424870466321243\n",
      "0.7701863354037267\n"
     ]
    }
   ],
   "source": []
  },
  {
   "cell_type": "code",
   "execution_count": 21,
   "metadata": {},
   "outputs": [
    {
     "data": {
      "text/plain": [
       "[range(0, 8)]"
      ]
     },
     "execution_count": 21,
     "metadata": {},
     "output_type": "execute_result"
    }
   ],
   "source": []
  }
 ],
 "metadata": {
  "kernelspec": {
   "display_name": "Python 3 (ipykernel)",
   "language": "python",
   "name": "python3"
  },
  "language_info": {
   "codemirror_mode": {
    "name": "ipython",
    "version": 3
   },
   "file_extension": ".py",
   "mimetype": "text/x-python",
   "name": "python",
   "nbconvert_exporter": "python",
   "pygments_lexer": "ipython3",
   "version": "3.9.7"
  }
 },
 "nbformat": 4,
 "nbformat_minor": 2
}
